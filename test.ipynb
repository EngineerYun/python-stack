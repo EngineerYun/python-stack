{
 "metadata": {
  "language_info": {
   "codemirror_mode": {
    "name": "ipython",
    "version": 3
   },
   "file_extension": ".py",
   "mimetype": "text/x-python",
   "name": "python",
   "nbconvert_exporter": "python",
   "pygments_lexer": "ipython3",
   "version": "3.8.5-final"
  },
  "orig_nbformat": 2,
  "kernelspec": {
   "name": "python3",
   "display_name": "Python 3",
   "language": "python"
  }
 },
 "nbformat": 4,
 "nbformat_minor": 2,
 "cells": [
  {
   "source": [
    "# 이미지 가져오기\n",
    "<img src='sea.jpg'>"
   ],
   "cell_type": "markdown",
   "metadata": {}
  },
  {
   "source": [
    "# 리스트\n",
    " - 1번 리스트\n",
    " + 2번 리스트"
   ],
   "cell_type": "markdown",
   "metadata": {}
  },
  {
   "source": [
    "|제목|내용|설명|\n",
    "|:---|---:|:---:|\n",
    "|왼쪽정렬|오른쪽정렬|중앙정렬|\n",
    "|왼쪽정렬|오른쪽정렬|중앙정렬|\n",
    "|왼쪽정렬|오른쪽정렬|중앙정렬|"
   ],
   "cell_type": "markdown",
   "metadata": {}
  },
  {
   "cell_type": "code",
   "execution_count": 1,
   "metadata": {},
   "outputs": [
    {
     "output_type": "stream",
     "name": "stdout",
     "text": [
      "Hello python\n"
     ]
    }
   ],
   "source": [
    "print(\"Hello python\")"
   ]
  },
  {
   "source": [
    "파이썬"
   ],
   "cell_type": "markdown",
   "metadata": {}
  },
  {
   "source": [
    "# 파이썬\n",
    " - 뱀을 좋아한 창시자\n",
    " - 인터프린터 형 언어\n",
    " - 읽기 쉽고 사용 쉽다\n",
    " - 외부 라이브러리 많음\n",
    "# 기초\n",
    "1. 자료형 (정수, 실수, 문자열, 논리형(true, false))\n",
    "2. 입출력 (input, print)\n",
    "3. 제어문과 반목문(if, for, while)\n",
    "4. 자료구조 (리스트, 튜플, 딕셔너리)\n",
    "5. 함수와 모듈(함수, 모듈)\n"
   ],
   "cell_type": "markdown",
   "metadata": {}
  }
 ]
}